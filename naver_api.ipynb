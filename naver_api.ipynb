{
 "cells": [
  {
   "cell_type": "code",
   "execution_count": 1,
   "metadata": {},
   "outputs": [],
   "source": [
    "import urllib.request\n",
    "client_id = \"e1iEUsHLl7QJFe8ioK_M\"\n",
    "client_secret = \"_QL0Y2FQny\""
   ]
  },
  {
   "cell_type": "code",
   "execution_count": 2,
   "metadata": {},
   "outputs": [
    {
     "data": {
      "text/plain": [
       "'https://openapi.naver.com/v1/search/blog.json?query=pinkwink'"
      ]
     },
     "execution_count": 2,
     "metadata": {},
     "output_type": "execute_result"
    }
   ],
   "source": [
    "encText = urllib.parse.quote(\"pinkwink\")\n",
    "url = \"https://openapi.naver.com/v1/search/blog.json?query=\" + encText\n",
    "url"
   ]
  },
  {
   "cell_type": "code",
   "execution_count": 3,
   "metadata": {},
   "outputs": [],
   "source": [
    "request = urllib.request.Request(url)\n",
    "request.add_header(\"X-Naver-Client-Id\",client_id)\n",
    "request.add_header(\"X-Naver-Client-Secret\", client_secret)"
   ]
  },
  {
   "cell_type": "code",
   "execution_count": 4,
   "metadata": {},
   "outputs": [
    {
     "name": "stdout",
     "output_type": "stream",
     "text": [
      "200\n"
     ]
    }
   ],
   "source": [
    "response = urllib.request.urlopen(request)\n",
    "print(response.getcode())"
   ]
  },
  {
   "cell_type": "code",
   "execution_count": 5,
   "metadata": {},
   "outputs": [
    {
     "data": {
      "text/plain": [
       "http.client.HTTPResponse"
      ]
     },
     "execution_count": 5,
     "metadata": {},
     "output_type": "execute_result"
    }
   ],
   "source": [
    "type(response)"
   ]
  },
  {
   "cell_type": "code",
   "execution_count": 6,
   "metadata": {},
   "outputs": [
    {
     "name": "stdout",
     "output_type": "stream",
     "text": [
      "{\n",
      "\"lastBuildDate\": \"Sat, 21 Nov 2020 17:28:58 +0900\",\n",
      "\"total\": 2789,\n",
      "\"start\": 1,\n",
      "\"display\": 10,\n",
      "\"items\": [\n",
      "{\n",
      "\"title\": \"<b>PinkWink</b> 블로그에서 온 선물..\",\n",
      "\"link\": \"https:\\/\\/blog.naver.com\\/chandong83?Redirect=Log&logNo=221531853244\",\n",
      "\"description\": \"국내 최고 아이티 블로그인 <b>PinkWink</b> 블로거이신 민형기 박사님께서 선물을 보내주셨다~ 크.. 이런 영광이!!!! 잘 쓰겠습니다~ 박사님!!! 나도 나중에 블로그 잘 운영해서 이런 선물도 나눠줘 보고 싶다~~ㅋ 요즘... \",\n",
      "\"bloggername\": \"하이! 제니스\",\n",
      "\"bloggerlink\": \"https://blog.naver.com/chandong83\",\n",
      "\"postdate\": \"20190507\"\n",
      "\n",
      "},\n",
      "{\n",
      "\"title\": \"자료 주소, <b>PinkWink</b>, DataScience; 시카고 샌드위치 맛집 주소\",\n",
      "\"link\": \"https:\\/\\/blog.naver.com\\/neobk2019?Redirect=Log&logNo=222090851064\",\n",
      "\"description\": \"책(파이썬으로 데이터 주무르기) 내용 자료 주소, <b>PinkWink</b>, DataScience #3장 #시카고 #샌드위치 #맛집 #분석 #주소 - 교재 발간당시와 현재의 웹페이지가 바뀌어서, 교재에... \",\n",
      "\"bloggername\": \"(비케이) 배우고 익히는 즐거움\",\n",
      "\"bloggerlink\": \"https://blog.naver.com/neobk2019\",\n",
      "\"postdate\": \"20200916\"\n",
      "\n",
      "},\n",
      "{\n",
      "\"title\": \"Project -ing) <b>PinkWink</b> (핑크윙크) 쇼핑몰 브랜드 로고디자인... \",\n",
      "\"link\": \"https:\\/\\/blog.naver.com\\/honggraphic?Redirect=Log&logNo=221880867448\",\n",
      "\"description\": \"한국브랜드에 대한 위상이 높아지고 있는 요즘, K를 강조한 브랜드 개발 요청이 많아지고 있습니다. 이번 프로젝트는 쇼핑몰 브랜드로 베트남과 말레이시아 등의 수출을 목표로 한류 열풍을 이어나갈... \",\n",
      "\"bloggername\": \"홍그래픽\",\n",
      "\"bloggerlink\": \"https://blog.naver.com/honggraphic\",\n",
      "\"postdate\": \"20200330\"\n",
      "\n",
      "},\n",
      "{\n",
      "\"title\": \"2019년 <b>PinkWink</b> 블로그 결산\",\n",
      "\"link\": \"https://pinkwink.kr/1259\",\n",
      "\"description\": \"^^. 저는 크리스마스때 괌으로 떠나서 올해는 거기서 보낼 예정입니다. 다들 새해 복 많이 많으시구요. 우리는 다시 내년에 만나요~~~^^ 좋아요 13 공유하기 글 요소 구독하기 <b>PinkWink</b> 저작자표시\",\n",
      "\"bloggername\": \"PinkWink\",\n",
      "\"bloggerlink\": \"https://pinkwink.kr/\",\n",
      "\"postdate\": \"20191223\"\n",
      "\n",
      "},\n",
      "{\n",
      "\"title\": \"[공유] <b>PinkWink</b> :: 저역통과필터와 고역통과필터를 C로 구현\",\n",
      "\"link\": \"https:\\/\\/blog.naver.com\\/kangusreport?Redirect=Log&logNo=221870399107\",\n",
      "\"description\": \"<b>PinkWink</b> :: 저역통과필터와 고역통과필터를 C로 구현\",\n",
      "\"bloggername\": \"Dex Note\",\n",
      "\"bloggerlink\": \"https://blog.naver.com/kangusreport\",\n",
      "\"postdate\": \"20200324\"\n",
      "\n",
      "},\n",
      "{\n",
      "\"title\": \"<b>PinkWink</b> :: 정보를 담고 있는 좌표계에 회전행렬을 적용하는... \",\n",
      "\"link\": \"http://blog.daum.net/knightofelf/42100\",\n",
      "\"description\": \"<b>PinkWink</b> :: 정보를 담고 있는 좌표계에 회전행렬을 적용하는 방법 http://<b>pinkwink</b>.kr/404 공유하기 글 요소 저작자표시 사업자 정보 표시 | | | 사업자 등록번호 : -- | TEL : -- | 사이버몰의 이용약관... \",\n",
      "\"bloggername\": \"knight of elf - 애들은 잘놀아\",\n",
      "\"bloggerlink\": \"http://blog.daum.net/knightofelf\",\n",
      "\"postdate\": \"20190930\"\n",
      "\n",
      "},\n",
      "{\n",
      "\"title\": \"[<b>pinkwink</b>님-구매후기]\",\n",
      "\"link\": \"https:\\/\\/blog.naver.com\\/monetchou?Redirect=Log&logNo=150182740062\",\n",
      "\"description\": \"친구들 중에 강아지 키우는 아이들에겐 연말선물로 강아지옷선물했는데. 이옷너무 이쁘다고.맘에 든다고 해주어서 저도 으쓱해졌습니다. 옷입고 포즈도 잘취해주고.귀엽죠? 덕분에...저... \",\n",
      "\"bloggername\": \"몽에슈\",\n",
      "\"bloggerlink\": \"https://blog.naver.com/monetchou\",\n",
      "\"postdate\": \"20140110\"\n",
      "\n",
      "},\n",
      "{\n",
      "\"title\": \"[공유] <b>PinkWink</b> :: 맥에서 윈도우용(NTFS) 외장하드에 파일... \",\n",
      "\"link\": \"https:\\/\\/blog.naver.com\\/sonidda?Redirect=Log&logNo=221722293907\",\n",
      "\"description\": \"<b>PinkWink</b> :: 맥에서 윈도우용(NTFS) 외장하드에 파일 복사/쓰기 가능하게 해주는 Mounty\",\n",
      "\"bloggername\": \"손스의 소소한 기록들\",\n",
      "\"bloggerlink\": \"https://blog.naver.com/sonidda\",\n",
      "\"postdate\": \"20191129\"\n",
      "\n",
      "},\n",
      "{\n",
      "\"title\": \"<b>PinkWink</b>님의 미바뤼 돌촬영 후기 :)\",\n",
      "\"link\": \"https:\\/\\/blog.naver.com\\/creta01?Redirect=Log&logNo=220191244266\",\n",
      "\"description\": \"원본출처 : <b>PinkWink</b>님 블로그 :) http://<b>pinkwink</b>.kr/678\",\n",
      "\"bloggername\": \"A moment in life\",\n",
      "\"bloggerlink\": \"https://blog.naver.com/creta01\",\n",
      "\"postdate\": \"20141125\"\n",
      "\n",
      "},\n",
      "{\n",
      "\"title\": \"http://<b>pinkwink</b>.kr/218\",\n",
      "\"link\": \"https:\\/\\/blog.naver.com\\/2danzee?Redirect=Log&logNo=220548423642\",\n",
      "\"description\": \"http://<b>pinkwink</b>.kr/218\",\n",
      "\"bloggername\": \"2danzee님의블로그\",\n",
      "\"bloggerlink\": \"https://blog.naver.com/2danzee\",\n",
      "\"postdate\": \"20151124\"\n",
      "\n",
      "}\n",
      "]\n",
      "}\n",
      "\n"
     ]
    }
   ],
   "source": [
    "print(response.read().decode('utf-8'))"
   ]
  },
  {
   "cell_type": "code",
   "execution_count": 7,
   "metadata": {},
   "outputs": [
    {
     "name": "stdout",
     "output_type": "stream",
     "text": [
      "1\n",
      "10\n",
      "1\n"
     ]
    }
   ],
   "source": [
    "for n in [1,10,1]:\n",
    "    print(n)"
   ]
  },
  {
   "cell_type": "code",
   "execution_count": 8,
   "metadata": {},
   "outputs": [
    {
     "name": "stdout",
     "output_type": "stream",
     "text": [
      "1\n",
      "4\n",
      "9\n",
      "9\n",
      "16\n"
     ]
    }
   ],
   "source": [
    "for n in [1,2,3,3,4]:\n",
    "    print(n**2)"
   ]
  },
  {
   "cell_type": "code",
   "execution_count": 9,
   "metadata": {},
   "outputs": [
    {
     "data": {
      "text/plain": [
       "[1, 8, 27, 64]"
      ]
     },
     "execution_count": 9,
     "metadata": {},
     "output_type": "execute_result"
    }
   ],
   "source": [
    "[n**3 for n in range(1, 5)]"
   ]
  },
  {
   "cell_type": "code",
   "execution_count": 10,
   "metadata": {},
   "outputs": [],
   "source": [
    "def get_square(n):\n",
    "    return n**3"
   ]
  },
  {
   "cell_type": "code",
   "execution_count": 11,
   "metadata": {},
   "outputs": [
    {
     "data": {
      "text/plain": [
       "27"
      ]
     },
     "execution_count": 11,
     "metadata": {},
     "output_type": "execute_result"
    }
   ],
   "source": [
    "get_square(3)"
   ]
  },
  {
   "cell_type": "code",
   "execution_count": 12,
   "metadata": {},
   "outputs": [
    {
     "data": {
      "text/plain": [
       "[8, 27]"
      ]
     },
     "execution_count": 12,
     "metadata": {},
     "output_type": "execute_result"
    }
   ],
   "source": [
    "[get_square(n) for n in range(2,4)]"
   ]
  },
  {
   "cell_type": "code",
   "execution_count": 13,
   "metadata": {},
   "outputs": [],
   "source": [
    "def create_url(api_node, search_text, start_num, disp_num):\n",
    "    base = \"https://openapi.naver.com/v1/search\"\n",
    "    node = \"/\" + api_node + \".json\"\n",
    "    param_query = \"?query=\" + urllib.parse.quote(search_text)\n",
    "    # ?query= 다음에 나오는 글을 검색\n",
    "    param_start = \"&start=\" + str(start_num)\n",
    "    # start= 다음에 나오는 숫자로 검색 시작\n",
    "    param_disp = \"&display=\" + str(disp_num)\n",
    "    # display= 다음에 나오는 숫자가 검색 출력건수\n",
    "    \n",
    "    return base + node + param_query + param_start + param_disp"
   ]
  },
  {
   "cell_type": "code",
   "execution_count": 14,
   "metadata": {},
   "outputs": [
    {
     "data": {
      "text/plain": [
       "'https://openapi.naver.com/v1/search/book.json?query=TEST&start=1&display=10'"
      ]
     },
     "execution_count": 14,
     "metadata": {},
     "output_type": "execute_result"
    }
   ],
   "source": [
    "create_url(\"book\",\"TEST\",1,10)"
   ]
  },
  {
   "cell_type": "code",
   "execution_count": 15,
   "metadata": {},
   "outputs": [],
   "source": [
    "import json\n",
    "\n",
    "client_id = \"e1iEUsHLl7QJFe8ioK_M\"\n",
    "client_secret = \"_QL0Y2FQny\"\n",
    "\n",
    "url = create_url(\"book\",\"카네기\",1,3)\n",
    "# book 검색, 파이썬이라는 단어, 검색결과 1부터 3까지 출력\n",
    "\n",
    "request = urllib.request.Request(url)\n",
    "# 검색 요청\n",
    "request.add_header(\"X-Naver-Client-Id\",client_id)\n",
    "request.add_header(\"X-Naver-Client-Secret\",client_secret)\n",
    "# 인증\n",
    "\n",
    "response = urllib.request.urlopen(request)\n",
    "# response 에 저장\n",
    "\n",
    "result = json.loads(response.read().decode('utf-8'))\n",
    "\n",
    "end_num = len(result['items'])\n",
    "\n",
    "titles = [result['items'][n]['title'] for n in range(end_num)]\n",
    "authors = [result['items'][n]['author'] for n in range(end_num)]\n",
    "pubdates = [result['items'][n]['pubdate'] for n in range(end_num)]\n"
   ]
  },
  {
   "cell_type": "code",
   "execution_count": 16,
   "metadata": {},
   "outputs": [
    {
     "data": {
      "text/plain": [
       "3"
      ]
     },
     "execution_count": 16,
     "metadata": {},
     "output_type": "execute_result"
    }
   ],
   "source": [
    "result['display']"
   ]
  },
  {
   "cell_type": "code",
   "execution_count": 17,
   "metadata": {},
   "outputs": [
    {
     "data": {
      "text/plain": [
       "[{'title': '데일 <b>카네기</b> 인간관계론',\n",
       "  'link': 'http://book.naver.com/bookdb/book_detail.php?bid=15512454',\n",
       "  'image': 'https://bookthumb-phinf.pstatic.net/cover/155/124/15512454.jpg?type=m1&udate=20200926',\n",
       "  'author': '데일 <b>카네기</b>',\n",
       "  'price': '11500',\n",
       "  'discount': '10350',\n",
       "  'publisher': '현대지성',\n",
       "  'pubdate': '20191007',\n",
       "  'isbn': '1187142565 9791187142560',\n",
       "  'description': '데일 <b>카네기</b>가 전하는 성공하는 인간관계의 비밀인간관계는 친구를 만들고 적을 만들지 않는 것에서 시작된다. 『데일 <b>카네기</b> 인간관계론』은 이런 인간관계의 핵심을 꿰뚫는다. ‘친구를 만들고, 사람을 설득하는 법’이라는 제목으로 1936년 처음 출간된 데일 <b>카네기</b>의 책은 80년 넘게 수많은 사람들에게... '},\n",
       " {'title': '데일 <b>카네기</b> 인간관계론 자기관리론 (워런 버핏이 가장 애독한 처세술 책)',\n",
       "  'link': 'http://book.naver.com/bookdb/book_detail.php?bid=16237832',\n",
       "  'image': 'https://bookthumb-phinf.pstatic.net/cover/162/378/16237832.jpg?type=m1&udate=20200401',\n",
       "  'author': '데일 <b>카네기</b>',\n",
       "  'price': '12800',\n",
       "  'discount': '11520',\n",
       "  'publisher': '베이직북스',\n",
       "  'pubdate': '20200210',\n",
       "  'isbn': '116340036X 9791163400363',\n",
       "  'description': '<b>카네기</b>의 저서는 시대를 초월한 영원한 베스트셀러로, 그가 남긴 말 한 마디는 오늘날 수많은 지도자나 사업가들에게 영향을 끼쳤으며, 일반인들에게... <b>카네기</b>의 따스한 지혜와 진지한 충고는 삶에 위안과 힘을 주고 인생에서 가장 소중한 보물지도가 되리라 확신한다. 수많은 자기계발서 중 단 한 권만 골라야... '},\n",
       " {'title': '<b>카네기</b> 인생수업 (데일 <b>카네기</b> 인생론)',\n",
       "  'link': 'http://book.naver.com/bookdb/book_detail.php?bid=16848542',\n",
       "  'image': 'https://bookthumb-phinf.pstatic.net/cover/168/485/16848542.jpg?type=m1&udate=20201017',\n",
       "  'author': '데일 <b>카네기</b>',\n",
       "  'price': '15800',\n",
       "  'discount': '14220',\n",
       "  'publisher': '더불어으뜸',\n",
       "  'pubdate': '20201025',\n",
       "  'isbn': '1187867365 9791187867364',\n",
       "  'description': '다시 시작하는 당신을 위한 메시지데일 <b>카네기</b>의 《인생론》〈원제HOW TO STOP WORRYING AND START LIVING〉을 새롭게 엮은 이 책은 당신에게 긍정적인, 그래서 행복한 인생을 선물해 준다.\\n걱정과 근심에서 벗어나기 위한 기본 마음가짐에서 마음을 불안하게 하는 걱정을 분석하는 방법, 걱정만 하는 습관을... '}]"
      ]
     },
     "execution_count": 17,
     "metadata": {},
     "output_type": "execute_result"
    }
   ],
   "source": [
    "result['items']"
   ]
  },
  {
   "cell_type": "code",
   "execution_count": 18,
   "metadata": {},
   "outputs": [
    {
     "data": {
      "text/plain": [
       "['데일 <b>카네기</b> 인간관계론',\n",
       " '데일 <b>카네기</b> 인간관계론 자기관리론 (워런 버핏이 가장 애독한 처세술 책)',\n",
       " '<b>카네기</b> 인생수업 (데일 <b>카네기</b> 인생론)']"
      ]
     },
     "execution_count": 18,
     "metadata": {},
     "output_type": "execute_result"
    }
   ],
   "source": [
    "titles = [result['items'][n]['title'] for n in range(3)]\n",
    "titles"
   ]
  },
  {
   "cell_type": "code",
   "execution_count": 19,
   "metadata": {},
   "outputs": [
    {
     "data": {
      "text/plain": [
       "'데일 <b>카네기</b>'"
      ]
     },
     "execution_count": 19,
     "metadata": {},
     "output_type": "execute_result"
    }
   ],
   "source": [
    "result['items'][0]['author']"
   ]
  },
  {
   "cell_type": "code",
   "execution_count": 20,
   "metadata": {},
   "outputs": [
    {
     "data": {
      "text/plain": [
       "['데일 <b>카네기</b>', '데일 <b>카네기</b>', '데일 <b>카네기</b>']"
      ]
     },
     "execution_count": 20,
     "metadata": {},
     "output_type": "execute_result"
    }
   ],
   "source": [
    "authors = [result['items'][n]['author'] for n in range(3)]\n",
    "authors"
   ]
  },
  {
   "cell_type": "code",
   "execution_count": 21,
   "metadata": {},
   "outputs": [
    {
     "data": {
      "text/plain": [
       "['20191007', '20200210', '20201025']"
      ]
     },
     "execution_count": 21,
     "metadata": {},
     "output_type": "execute_result"
    }
   ],
   "source": [
    "pubdates = [result['items'][n]['pubdate'] for n in range(3)]\n",
    "pubdates"
   ]
  },
  {
   "cell_type": "code",
   "execution_count": 22,
   "metadata": {},
   "outputs": [
    {
     "data": {
      "text/html": [
       "<div>\n",
       "<style scoped>\n",
       "    .dataframe tbody tr th:only-of-type {\n",
       "        vertical-align: middle;\n",
       "    }\n",
       "\n",
       "    .dataframe tbody tr th {\n",
       "        vertical-align: top;\n",
       "    }\n",
       "\n",
       "    .dataframe thead th {\n",
       "        text-align: right;\n",
       "    }\n",
       "</style>\n",
       "<table border=\"1\" class=\"dataframe\">\n",
       "  <thead>\n",
       "    <tr style=\"text-align: right;\">\n",
       "      <th></th>\n",
       "      <th>책제목</th>\n",
       "      <th>작가</th>\n",
       "      <th>출판일</th>\n",
       "    </tr>\n",
       "  </thead>\n",
       "  <tbody>\n",
       "    <tr>\n",
       "      <th>0</th>\n",
       "      <td>데일 &lt;b&gt;카네기&lt;/b&gt; 인간관계론</td>\n",
       "      <td>데일 &lt;b&gt;카네기&lt;/b&gt;</td>\n",
       "      <td>20191007</td>\n",
       "    </tr>\n",
       "    <tr>\n",
       "      <th>1</th>\n",
       "      <td>데일 &lt;b&gt;카네기&lt;/b&gt; 인간관계론 자기관리론 (워런 버핏이 가장 애독한 처세술 책)</td>\n",
       "      <td>데일 &lt;b&gt;카네기&lt;/b&gt;</td>\n",
       "      <td>20200210</td>\n",
       "    </tr>\n",
       "    <tr>\n",
       "      <th>2</th>\n",
       "      <td>&lt;b&gt;카네기&lt;/b&gt; 인생수업 (데일 &lt;b&gt;카네기&lt;/b&gt; 인생론)</td>\n",
       "      <td>데일 &lt;b&gt;카네기&lt;/b&gt;</td>\n",
       "      <td>20201025</td>\n",
       "    </tr>\n",
       "  </tbody>\n",
       "</table>\n",
       "</div>"
      ],
      "text/plain": [
       "                                               책제목             작가       출판일\n",
       "0                              데일 <b>카네기</b> 인간관계론  데일 <b>카네기</b>  20191007\n",
       "1  데일 <b>카네기</b> 인간관계론 자기관리론 (워런 버핏이 가장 애독한 처세술 책)  데일 <b>카네기</b>  20200210\n",
       "2              <b>카네기</b> 인생수업 (데일 <b>카네기</b> 인생론)  데일 <b>카네기</b>  20201025"
      ]
     },
     "execution_count": 22,
     "metadata": {},
     "output_type": "execute_result"
    }
   ],
   "source": [
    "import pandas as pd\n",
    "\n",
    "pd.DataFrame({'책제목':titles, '작가':authors, '출판일':pubdates})"
   ]
  },
  {
   "cell_type": "code",
   "execution_count": 23,
   "metadata": {},
   "outputs": [],
   "source": [
    "def get_dataframe(url):\n",
    "    client_id = \"e1iEUsHLl7QJFe8ioK_M\"\n",
    "    client_secret = \"_QL0Y2FQny\"\n",
    "\n",
    "    request = urllib.request.Request(url)\n",
    "    # 검색 요청\n",
    "    request.add_header(\"X-Naver-Client-Id\",client_id)\n",
    "    request.add_header(\"X-Naver-Client-Secret\",client_secret)\n",
    "    # 인증\n",
    "\n",
    "    response = urllib.request.urlopen(request)\n",
    "    # response 에 저장\n",
    "\n",
    "    result = json.loads(response.read().decode('utf-8'))\n",
    "\n",
    "    end_num = len(result['items'])\n",
    "\n",
    "    titles = [result['items'][n]['title'] for n in range(end_num)]\n",
    "    authors = [result['items'][n]['author'] for n in range(end_num)]\n",
    "    pubdates = [result['items'][n]['pubdate'] for n in range(end_num)]\n",
    "    \n",
    "    return pd.DataFrame({'제목':titles,'작가':authors,'출판일':pubdates})"
   ]
  },
  {
   "cell_type": "code",
   "execution_count": 24,
   "metadata": {},
   "outputs": [
    {
     "data": {
      "text/html": [
       "<div>\n",
       "<style scoped>\n",
       "    .dataframe tbody tr th:only-of-type {\n",
       "        vertical-align: middle;\n",
       "    }\n",
       "\n",
       "    .dataframe tbody tr th {\n",
       "        vertical-align: top;\n",
       "    }\n",
       "\n",
       "    .dataframe thead th {\n",
       "        text-align: right;\n",
       "    }\n",
       "</style>\n",
       "<table border=\"1\" class=\"dataframe\">\n",
       "  <thead>\n",
       "    <tr style=\"text-align: right;\">\n",
       "      <th></th>\n",
       "      <th>제목</th>\n",
       "      <th>작가</th>\n",
       "      <th>출판일</th>\n",
       "    </tr>\n",
       "  </thead>\n",
       "  <tbody>\n",
       "    <tr>\n",
       "      <th>0</th>\n",
       "      <td>&lt;b&gt;서양화&lt;/b&gt;의 계통 및 사명</td>\n",
       "      <td>김유방</td>\n",
       "      <td>20201007</td>\n",
       "    </tr>\n",
       "    <tr>\n",
       "      <th>1</th>\n",
       "      <td>&lt;b&gt;서양화&lt;/b&gt; 자신 있게 보기 (알찬 이론에서 행복한 감상까지)</td>\n",
       "      <td>이주헌</td>\n",
       "      <td>20170613</td>\n",
       "    </tr>\n",
       "    <tr>\n",
       "      <th>2</th>\n",
       "      <td>한국현대 &lt;b&gt;서양화&lt;/b&gt; 평론</td>\n",
       "      <td>최철주</td>\n",
       "      <td>20191231</td>\n",
       "    </tr>\n",
       "    <tr>\n",
       "      <th>3</th>\n",
       "      <td>&lt;b&gt;서양화&lt;/b&gt; 읽는 법</td>\n",
       "      <td>조용진</td>\n",
       "      <td>20140510</td>\n",
       "    </tr>\n",
       "    <tr>\n",
       "      <th>4</th>\n",
       "      <td>동양화와 &lt;b&gt;서양화&lt;/b&gt;</td>\n",
       "      <td>고유섭</td>\n",
       "      <td>20191223</td>\n",
       "    </tr>\n",
       "    <tr>\n",
       "      <th>5</th>\n",
       "      <td>청소년을 위한 &lt;b&gt;서양화&lt;/b&gt; 읽는 법</td>\n",
       "      <td>조동신</td>\n",
       "      <td>20180830</td>\n",
       "    </tr>\n",
       "    <tr>\n",
       "      <th>6</th>\n",
       "      <td>&lt;b&gt;서양화&lt;/b&gt; 자신있게 보기 2 (알찬 이론에서 행복한 감상까지)</td>\n",
       "      <td>이주헌</td>\n",
       "      <td>20030315</td>\n",
       "    </tr>\n",
       "    <tr>\n",
       "      <th>7</th>\n",
       "      <td>&lt;b&gt;서양화&lt;/b&gt; 자신있게 보기 1 (알찬 이론에서 행복한 감상까지)</td>\n",
       "      <td>이주헌</td>\n",
       "      <td>20030315</td>\n",
       "    </tr>\n",
       "    <tr>\n",
       "      <th>8</th>\n",
       "      <td>&lt;b&gt;서양화&lt;/b&gt; 감상법</td>\n",
       "      <td>오광수</td>\n",
       "      <td>20101218</td>\n",
       "    </tr>\n",
       "    <tr>\n",
       "      <th>9</th>\n",
       "      <td>도해 &lt;b&gt;서양화&lt;/b&gt;</td>\n",
       "      <td>다나카 쿠미코</td>\n",
       "      <td>20150425</td>\n",
       "    </tr>\n",
       "  </tbody>\n",
       "</table>\n",
       "</div>"
      ],
      "text/plain": [
       "                                        제목       작가       출판일\n",
       "0                      <b>서양화</b>의 계통 및 사명      김유방  20201007\n",
       "1   <b>서양화</b> 자신 있게 보기 (알찬 이론에서 행복한 감상까지)      이주헌  20170613\n",
       "2                       한국현대 <b>서양화</b> 평론      최철주  20191231\n",
       "3                          <b>서양화</b> 읽는 법      조용진  20140510\n",
       "4                          동양화와 <b>서양화</b>      고유섭  20191223\n",
       "5                  청소년을 위한 <b>서양화</b> 읽는 법      조동신  20180830\n",
       "6  <b>서양화</b> 자신있게 보기 2 (알찬 이론에서 행복한 감상까지)      이주헌  20030315\n",
       "7  <b>서양화</b> 자신있게 보기 1 (알찬 이론에서 행복한 감상까지)      이주헌  20030315\n",
       "8                           <b>서양화</b> 감상법      오광수  20101218\n",
       "9                            도해 <b>서양화</b>  다나카 쿠미코  20150425"
      ]
     },
     "execution_count": 24,
     "metadata": {},
     "output_type": "execute_result"
    }
   ],
   "source": [
    "url = create_url(\"book\",\"서양화\",1,10)\n",
    "get_dataframe(url)"
   ]
  },
  {
   "cell_type": "code",
   "execution_count": 25,
   "metadata": {},
   "outputs": [],
   "source": [
    "def delete_tag(input_str):\n",
    "    input_str = input_str.replace(\"<b>\",\"\")\n",
    "    input_str = input_str.replace(\"</b>\",\"\")\n",
    "    return input_str"
   ]
  },
  {
   "cell_type": "code",
   "execution_count": 26,
   "metadata": {},
   "outputs": [],
   "source": [
    "def get_dataframe(url):\n",
    "    client_id = \"e1iEUsHLl7QJFe8ioK_M\"\n",
    "    client_secret = \"_QL0Y2FQny\"\n",
    "\n",
    "    request = urllib.request.Request(url)\n",
    "    # 검색 요청\n",
    "    request.add_header(\"X-Naver-Client-Id\",client_id)\n",
    "    request.add_header(\"X-Naver-Client-Secret\",client_secret)\n",
    "    # 인증\n",
    "\n",
    "    response = urllib.request.urlopen(request)\n",
    "    # response 에 저장\n",
    "\n",
    "    result = json.loads(response.read().decode('utf-8'))\n",
    "\n",
    "    end_num = len(result['items'])\n",
    "\n",
    "    titles = [delete_tag(result['items'][n]['title']) for n in range(end_num)]\n",
    "    authors = [result['items'][n]['author'] for n in range(end_num)]\n",
    "    pubdates = [result['items'][n]['pubdate'] for n in range(end_num)]\n",
    "    \n",
    "    return pd.DataFrame({'제목':titles,'작가':authors,'출판일':pubdates})"
   ]
  },
  {
   "cell_type": "code",
   "execution_count": 27,
   "metadata": {},
   "outputs": [
    {
     "data": {
      "text/html": [
       "<div>\n",
       "<style scoped>\n",
       "    .dataframe tbody tr th:only-of-type {\n",
       "        vertical-align: middle;\n",
       "    }\n",
       "\n",
       "    .dataframe tbody tr th {\n",
       "        vertical-align: top;\n",
       "    }\n",
       "\n",
       "    .dataframe thead th {\n",
       "        text-align: right;\n",
       "    }\n",
       "</style>\n",
       "<table border=\"1\" class=\"dataframe\">\n",
       "  <thead>\n",
       "    <tr style=\"text-align: right;\">\n",
       "      <th></th>\n",
       "      <th>제목</th>\n",
       "      <th>작가</th>\n",
       "      <th>출판일</th>\n",
       "    </tr>\n",
       "  </thead>\n",
       "  <tbody>\n",
       "    <tr>\n",
       "      <th>0</th>\n",
       "      <td>서양화의 계통 및 사명</td>\n",
       "      <td>김유방</td>\n",
       "      <td>20201007</td>\n",
       "    </tr>\n",
       "    <tr>\n",
       "      <th>1</th>\n",
       "      <td>서양화 자신 있게 보기 (알찬 이론에서 행복한 감상까지)</td>\n",
       "      <td>이주헌</td>\n",
       "      <td>20170613</td>\n",
       "    </tr>\n",
       "    <tr>\n",
       "      <th>2</th>\n",
       "      <td>한국현대 서양화 평론</td>\n",
       "      <td>최철주</td>\n",
       "      <td>20191231</td>\n",
       "    </tr>\n",
       "    <tr>\n",
       "      <th>3</th>\n",
       "      <td>서양화 읽는 법</td>\n",
       "      <td>조용진</td>\n",
       "      <td>20140510</td>\n",
       "    </tr>\n",
       "    <tr>\n",
       "      <th>4</th>\n",
       "      <td>동양화와 서양화</td>\n",
       "      <td>고유섭</td>\n",
       "      <td>20191223</td>\n",
       "    </tr>\n",
       "    <tr>\n",
       "      <th>5</th>\n",
       "      <td>청소년을 위한 서양화 읽는 법</td>\n",
       "      <td>조동신</td>\n",
       "      <td>20180830</td>\n",
       "    </tr>\n",
       "    <tr>\n",
       "      <th>6</th>\n",
       "      <td>서양화 자신있게 보기 2 (알찬 이론에서 행복한 감상까지)</td>\n",
       "      <td>이주헌</td>\n",
       "      <td>20030315</td>\n",
       "    </tr>\n",
       "    <tr>\n",
       "      <th>7</th>\n",
       "      <td>서양화 자신있게 보기 1 (알찬 이론에서 행복한 감상까지)</td>\n",
       "      <td>이주헌</td>\n",
       "      <td>20030315</td>\n",
       "    </tr>\n",
       "    <tr>\n",
       "      <th>8</th>\n",
       "      <td>서양화 감상법</td>\n",
       "      <td>오광수</td>\n",
       "      <td>20101218</td>\n",
       "    </tr>\n",
       "    <tr>\n",
       "      <th>9</th>\n",
       "      <td>도해 서양화</td>\n",
       "      <td>다나카 쿠미코</td>\n",
       "      <td>20150425</td>\n",
       "    </tr>\n",
       "  </tbody>\n",
       "</table>\n",
       "</div>"
      ],
      "text/plain": [
       "                                 제목       작가       출판일\n",
       "0                      서양화의 계통 및 사명      김유방  20201007\n",
       "1   서양화 자신 있게 보기 (알찬 이론에서 행복한 감상까지)      이주헌  20170613\n",
       "2                       한국현대 서양화 평론      최철주  20191231\n",
       "3                          서양화 읽는 법      조용진  20140510\n",
       "4                          동양화와 서양화      고유섭  20191223\n",
       "5                  청소년을 위한 서양화 읽는 법      조동신  20180830\n",
       "6  서양화 자신있게 보기 2 (알찬 이론에서 행복한 감상까지)      이주헌  20030315\n",
       "7  서양화 자신있게 보기 1 (알찬 이론에서 행복한 감상까지)      이주헌  20030315\n",
       "8                           서양화 감상법      오광수  20101218\n",
       "9                            도해 서양화  다나카 쿠미코  20150425"
      ]
     },
     "execution_count": 27,
     "metadata": {},
     "output_type": "execute_result"
    }
   ],
   "source": [
    "create_url(\"book\",\"서양화\",1,10)\n",
    "get_dataframe(url)"
   ]
  },
  {
   "cell_type": "code",
   "execution_count": 38,
   "metadata": {},
   "outputs": [
    {
     "name": "stdout",
     "output_type": "stream",
     "text": [
      "<class 'pandas.core.frame.DataFrame'>\n",
      "Int64Index: 300 entries, 0 to 99\n",
      "Data columns (total 3 columns):\n",
      " #   Column  Non-Null Count  Dtype \n",
      "---  ------  --------------  ----- \n",
      " 0   제목      300 non-null    object\n",
      " 1   작가      300 non-null    object\n",
      " 2   출판일     300 non-null    object\n",
      "dtypes: object(3)\n",
      "memory usage: 9.4+ KB\n"
     ]
    }
   ],
   "source": [
    "result_search = []\n",
    "\n",
    "for n in range(1,300,100):\n",
    "    url = create_url(\"book\",\"파이썬\",n,100)\n",
    "    # 검색 시작 1, 101, 201\n",
    "    result_search.append(get_dataframe(url))\n",
    "    \n",
    "result_search = pd.concat(result_search)\n",
    "result_search.info()\n",
    "    "
   ]
  },
  {
   "cell_type": "code",
   "execution_count": 39,
   "metadata": {},
   "outputs": [
    {
     "data": {
      "text/html": [
       "<div>\n",
       "<style scoped>\n",
       "    .dataframe tbody tr th:only-of-type {\n",
       "        vertical-align: middle;\n",
       "    }\n",
       "\n",
       "    .dataframe tbody tr th {\n",
       "        vertical-align: top;\n",
       "    }\n",
       "\n",
       "    .dataframe thead th {\n",
       "        text-align: right;\n",
       "    }\n",
       "</style>\n",
       "<table border=\"1\" class=\"dataframe\">\n",
       "  <thead>\n",
       "    <tr style=\"text-align: right;\">\n",
       "      <th></th>\n",
       "      <th>제목</th>\n",
       "      <th>작가</th>\n",
       "      <th>출판일</th>\n",
       "    </tr>\n",
       "  </thead>\n",
       "  <tbody>\n",
       "    <tr>\n",
       "      <th>0</th>\n",
       "      <td>이것이 취업을 위한 코딩 테스트다 with 파이썬 (취업과 이직을 결정하는 알고리즘...</td>\n",
       "      <td>나동빈</td>\n",
       "      <td>20200805</td>\n",
       "    </tr>\n",
       "    <tr>\n",
       "      <th>1</th>\n",
       "      <td>파이썬 알고리즘 인터뷰 (95가지 알고리즘 문제 풀이로 완성하는 코딩 테스트)</td>\n",
       "      <td>박상길</td>\n",
       "      <td>20200715</td>\n",
       "    </tr>\n",
       "    <tr>\n",
       "      <th>2</th>\n",
       "      <td>혼자 공부하는 파이썬 (파이썬 최신 버전 반영)</td>\n",
       "      <td>윤인성</td>\n",
       "      <td>20190610</td>\n",
       "    </tr>\n",
       "    <tr>\n",
       "      <th>3</th>\n",
       "      <td>Do it! 점프 투 파이썬</td>\n",
       "      <td>박응용</td>\n",
       "      <td>20190620</td>\n",
       "    </tr>\n",
       "    <tr>\n",
       "      <th>4</th>\n",
       "      <td>파이썬 증권 데이터 분석 (파이썬 입문, 웹 스크레이핑, 트레이딩 전략, 자동 매매)</td>\n",
       "      <td>김황후</td>\n",
       "      <td>20200701</td>\n",
       "    </tr>\n",
       "    <tr>\n",
       "      <th>...</th>\n",
       "      <td>...</td>\n",
       "      <td>...</td>\n",
       "      <td>...</td>\n",
       "    </tr>\n",
       "    <tr>\n",
       "      <th>95</th>\n",
       "      <td>파이썬으로 시작하는 코딩 (초보자를 위한 프로그래밍 기본 원리)</td>\n",
       "      <td>롭 마일스</td>\n",
       "      <td>20190102</td>\n",
       "    </tr>\n",
       "    <tr>\n",
       "      <th>96</th>\n",
       "      <td>파이썬으로 시작하는 컴퓨터 과학 입문</td>\n",
       "      <td>존 M. 젤</td>\n",
       "      <td>20170818</td>\n",
       "    </tr>\n",
       "    <tr>\n",
       "      <th>97</th>\n",
       "      <td>러닝 파이썬 세트 (파이썬에 관한 것, 그 무엇이든!)</td>\n",
       "      <td>마크 루츠</td>\n",
       "      <td>20180328</td>\n",
       "    </tr>\n",
       "    <tr>\n",
       "      <th>98</th>\n",
       "      <td>파이썬 머신러닝 (최신 예측 분석 기반으로 깊은 통찰력을 얻는 머신러닝 필수 가이드)</td>\n",
       "      <td>세바스티안 라슈카</td>\n",
       "      <td>20170125</td>\n",
       "    </tr>\n",
       "    <tr>\n",
       "      <th>99</th>\n",
       "      <td>파이썬 (개정판)</td>\n",
       "      <td>이강성</td>\n",
       "      <td>20050829</td>\n",
       "    </tr>\n",
       "  </tbody>\n",
       "</table>\n",
       "<p>300 rows × 3 columns</p>\n",
       "</div>"
      ],
      "text/plain": [
       "                                                   제목         작가       출판일\n",
       "0   이것이 취업을 위한 코딩 테스트다 with 파이썬 (취업과 이직을 결정하는 알고리즘...        나동빈  20200805\n",
       "1         파이썬 알고리즘 인터뷰 (95가지 알고리즘 문제 풀이로 완성하는 코딩 테스트)        박상길  20200715\n",
       "2                          혼자 공부하는 파이썬 (파이썬 최신 버전 반영)        윤인성  20190610\n",
       "3                                     Do it! 점프 투 파이썬        박응용  20190620\n",
       "4     파이썬 증권 데이터 분석 (파이썬 입문, 웹 스크레이핑, 트레이딩 전략, 자동 매매)        김황후  20200701\n",
       "..                                                ...        ...       ...\n",
       "95                파이썬으로 시작하는 코딩 (초보자를 위한 프로그래밍 기본 원리)      롭 마일스  20190102\n",
       "96                               파이썬으로 시작하는 컴퓨터 과학 입문     존 M. 젤  20170818\n",
       "97                     러닝 파이썬 세트 (파이썬에 관한 것, 그 무엇이든!)      마크 루츠  20180328\n",
       "98    파이썬 머신러닝 (최신 예측 분석 기반으로 깊은 통찰력을 얻는 머신러닝 필수 가이드)  세바스티안 라슈카  20170125\n",
       "99                                          파이썬 (개정판)        이강성  20050829\n",
       "\n",
       "[300 rows x 3 columns]"
      ]
     },
     "execution_count": 39,
     "metadata": {},
     "output_type": "execute_result"
    }
   ],
   "source": [
    "result_search"
   ]
  },
  {
   "cell_type": "code",
   "execution_count": 40,
   "metadata": {},
   "outputs": [
    {
     "name": "stdout",
     "output_type": "stream",
     "text": [
      "<class 'pandas.core.frame.DataFrame'>\n",
      "Int64Index: 300 entries, 0 to 99\n",
      "Data columns (total 3 columns):\n",
      " #   Column  Non-Null Count  Dtype \n",
      "---  ------  --------------  ----- \n",
      " 0   제목      300 non-null    object\n",
      " 1   작가      300 non-null    object\n",
      " 2   출판일     300 non-null    object\n",
      "dtypes: object(3)\n",
      "memory usage: 9.4+ KB\n"
     ]
    }
   ],
   "source": [
    "result_search.info()"
   ]
  },
  {
   "cell_type": "code",
   "execution_count": 41,
   "metadata": {},
   "outputs": [
    {
     "name": "stdout",
     "output_type": "stream",
     "text": [
      "<class 'pandas.core.frame.DataFrame'>\n",
      "RangeIndex: 300 entries, 0 to 299\n",
      "Data columns (total 3 columns):\n",
      " #   Column  Non-Null Count  Dtype \n",
      "---  ------  --------------  ----- \n",
      " 0   제목      300 non-null    object\n",
      " 1   작가      300 non-null    object\n",
      " 2   출판일     300 non-null    object\n",
      "dtypes: object(3)\n",
      "memory usage: 7.2+ KB\n"
     ]
    }
   ],
   "source": [
    "result_search = result_search.reset_index(drop=True)\n",
    "result_search.info()"
   ]
  },
  {
   "cell_type": "code",
   "execution_count": 52,
   "metadata": {},
   "outputs": [],
   "source": [
    "writer = pd.ExcelWriter(\"./python_book_info.xlsx\", engine='xlsxwriter')\n",
    "result_search.to_excel(writer, sheet_name='Sheet1')\n",
    "\n",
    "workbook = writer.book\n",
    "worksheet = writer.sheets['Sheet1']\n",
    "\n",
    "format_center = workbook.add_format({'text_wrap':True})\n",
    "format_center.set_align('center')\n",
    "format_center.set_align('vcenter')\n",
    "\n",
    "worksheet.set_column('A:A',5)\n",
    "worksheet.set_column('B:B',90, format_center)\n",
    "worksheet.set_column('C:C',40, format_center)\n",
    "worksheet.set_column('D:D',15, format_center)\n",
    "\n",
    "writer.save()"
   ]
  },
  {
   "cell_type": "code",
   "execution_count": null,
   "metadata": {},
   "outputs": [],
   "source": []
  },
  {
   "cell_type": "code",
   "execution_count": null,
   "metadata": {},
   "outputs": [],
   "source": []
  }
 ],
 "metadata": {
  "kernelspec": {
   "display_name": "Python 3",
   "language": "python",
   "name": "python3"
  },
  "language_info": {
   "codemirror_mode": {
    "name": "ipython",
    "version": 3
   },
   "file_extension": ".py",
   "mimetype": "text/x-python",
   "name": "python",
   "nbconvert_exporter": "python",
   "pygments_lexer": "ipython3",
   "version": "3.6.12"
  }
 },
 "nbformat": 4,
 "nbformat_minor": 4
}
